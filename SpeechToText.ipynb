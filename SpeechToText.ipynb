{
  "nbformat": 4,
  "nbformat_minor": 0,
  "metadata": {
    "colab": {
      "provenance": [],
      "authorship_tag": "ABX9TyNu49Xhrz51MVZF+iEhuliM",
      "include_colab_link": true
    },
    "kernelspec": {
      "name": "python3",
      "display_name": "Python 3"
    },
    "language_info": {
      "name": "python"
    }
  },
  "cells": [
    {
      "cell_type": "markdown",
      "metadata": {
        "id": "view-in-github",
        "colab_type": "text"
      },
      "source": [
        "<a href=\"https://colab.research.google.com/github/ERIC10000/API/blob/main/SpeechToText.ipynb\" target=\"_parent\"><img src=\"https://colab.research.google.com/assets/colab-badge.svg\" alt=\"Open In Colab\"/></a>"
      ]
    },
    {
      "cell_type": "code",
      "execution_count": null,
      "metadata": {
        "colab": {
          "base_uri": "https://localhost:8080/"
        },
        "id": "mHWblquFQ1Od",
        "outputId": "fb269ed6-29db-4420-b039-18550d36acba"
      },
      "outputs": [
        {
          "output_type": "stream",
          "name": "stdout",
          "text": [
            "Requirement already satisfied: gTTS in /usr/local/lib/python3.10/dist-packages (2.4.0)\n",
            "Requirement already satisfied: requests<3,>=2.27 in /usr/local/lib/python3.10/dist-packages (from gTTS) (2.31.0)\n",
            "Requirement already satisfied: click<8.2,>=7.1 in /usr/local/lib/python3.10/dist-packages (from gTTS) (8.1.7)\n",
            "Requirement already satisfied: charset-normalizer<4,>=2 in /usr/local/lib/python3.10/dist-packages (from requests<3,>=2.27->gTTS) (3.3.2)\n",
            "Requirement already satisfied: idna<4,>=2.5 in /usr/local/lib/python3.10/dist-packages (from requests<3,>=2.27->gTTS) (3.4)\n",
            "Requirement already satisfied: urllib3<3,>=1.21.1 in /usr/local/lib/python3.10/dist-packages (from requests<3,>=2.27->gTTS) (2.0.7)\n",
            "Requirement already satisfied: certifi>=2017.4.17 in /usr/local/lib/python3.10/dist-packages (from requests<3,>=2.27->gTTS) (2023.7.22)\n"
          ]
        }
      ],
      "source": [
        "# SPEECH RECOGNITION\n",
        "# PRE - TRAINED MODEL - FACEBOOK\n",
        "# HUGGING FACE\n",
        "# TEXT TO SPEECH & SPEECH TO TEXT\n",
        "# gTTS -> googleTextToSpeech\n",
        "\n",
        "!pip install gTTS"
      ]
    },
    {
      "cell_type": "code",
      "source": [
        "from gtts import gTTS\n",
        "\n",
        "myText = \"Napenda Kenya Nchi Yangu\"\n",
        "\n",
        "language = 'en'\n"
      ],
      "metadata": {
        "id": "A1XnpWjMUL5D"
      },
      "execution_count": null,
      "outputs": []
    },
    {
      "cell_type": "code",
      "source": [
        "speech = gTTS(text = myText, lang= language, slow = False)\n",
        "speech.save('speech.mp3')"
      ],
      "metadata": {
        "id": "21cr78AaUtXl"
      },
      "execution_count": null,
      "outputs": []
    },
    {
      "cell_type": "code",
      "source": [
        "from IPython.display import Audio\n",
        "from IPython.display import display"
      ],
      "metadata": {
        "id": "OPrpY5uyVWmf"
      },
      "execution_count": null,
      "outputs": []
    },
    {
      "cell_type": "code",
      "source": [],
      "metadata": {
        "id": "ttyjseuYo_7K"
      },
      "execution_count": null,
      "outputs": []
    },
    {
      "cell_type": "code",
      "source": [
        "sound_file = 'speech.mp3'\n",
        "sound = Audio(sound_file, autoplay=True)\n",
        "display(sound)"
      ],
      "metadata": {
        "colab": {
          "base_uri": "https://localhost:8080/",
          "height": 75
        },
        "id": "Pgto8-QKVw4i",
        "outputId": "59308bee-4a2c-4758-bedd-19a95470d3d5"
      },
      "execution_count": null,
      "outputs": [
        {
          "output_type": "display_data",
          "data": {
            "text/plain": [
              "<IPython.lib.display.Audio object>"
            ],
            "text/html": [
              "\n",
              "                <audio  controls=\"controls\" autoplay=\"autoplay\">\n",
              "                    <source src=\"data:audio/mpeg;base64,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\" type=\"audio/mpeg\" />\n",
              "                    Your browser does not support the audio element.\n",
              "                </audio>\n",
              "              "
            ]
          },
          "metadata": {}
        }
      ]
    },
    {
      "cell_type": "code",
      "source": [
        "# SPEECH TO TEXT\n",
        "!pip install transformers"
      ],
      "metadata": {
        "colab": {
          "base_uri": "https://localhost:8080/"
        },
        "id": "NUhBJOo-pBnJ",
        "outputId": "f0c64090-bfdd-42a4-cbc8-7cfcbe05a4d0"
      },
      "execution_count": null,
      "outputs": [
        {
          "output_type": "stream",
          "name": "stdout",
          "text": [
            "Requirement already satisfied: transformers in /usr/local/lib/python3.10/dist-packages (4.35.2)\n",
            "Requirement already satisfied: filelock in /usr/local/lib/python3.10/dist-packages (from transformers) (3.13.1)\n",
            "Requirement already satisfied: huggingface-hub<1.0,>=0.16.4 in /usr/local/lib/python3.10/dist-packages (from transformers) (0.19.4)\n",
            "Requirement already satisfied: numpy>=1.17 in /usr/local/lib/python3.10/dist-packages (from transformers) (1.23.5)\n",
            "Requirement already satisfied: packaging>=20.0 in /usr/local/lib/python3.10/dist-packages (from transformers) (23.2)\n",
            "Requirement already satisfied: pyyaml>=5.1 in /usr/local/lib/python3.10/dist-packages (from transformers) (6.0.1)\n",
            "Requirement already satisfied: regex!=2019.12.17 in /usr/local/lib/python3.10/dist-packages (from transformers) (2023.6.3)\n",
            "Requirement already satisfied: requests in /usr/local/lib/python3.10/dist-packages (from transformers) (2.31.0)\n",
            "Requirement already satisfied: tokenizers<0.19,>=0.14 in /usr/local/lib/python3.10/dist-packages (from transformers) (0.15.0)\n",
            "Requirement already satisfied: safetensors>=0.3.1 in /usr/local/lib/python3.10/dist-packages (from transformers) (0.4.0)\n",
            "Requirement already satisfied: tqdm>=4.27 in /usr/local/lib/python3.10/dist-packages (from transformers) (4.66.1)\n",
            "Requirement already satisfied: fsspec>=2023.5.0 in /usr/local/lib/python3.10/dist-packages (from huggingface-hub<1.0,>=0.16.4->transformers) (2023.6.0)\n",
            "Requirement already satisfied: typing-extensions>=3.7.4.3 in /usr/local/lib/python3.10/dist-packages (from huggingface-hub<1.0,>=0.16.4->transformers) (4.5.0)\n",
            "Requirement already satisfied: charset-normalizer<4,>=2 in /usr/local/lib/python3.10/dist-packages (from requests->transformers) (3.3.2)\n",
            "Requirement already satisfied: idna<4,>=2.5 in /usr/local/lib/python3.10/dist-packages (from requests->transformers) (3.4)\n",
            "Requirement already satisfied: urllib3<3,>=1.21.1 in /usr/local/lib/python3.10/dist-packages (from requests->transformers) (2.0.7)\n",
            "Requirement already satisfied: certifi>=2017.4.17 in /usr/local/lib/python3.10/dist-packages (from requests->transformers) (2023.7.22)\n"
          ]
        }
      ]
    },
    {
      "cell_type": "code",
      "source": [
        "# Managing Audio - librosa\n",
        "import librosa"
      ],
      "metadata": {
        "id": "Nvq2NzNspYJS"
      },
      "execution_count": null,
      "outputs": []
    },
    {
      "cell_type": "code",
      "source": [
        "# Audio Processing -> torch\n",
        "import torch"
      ],
      "metadata": {
        "id": "eI24GF-gqphD"
      },
      "execution_count": null,
      "outputs": []
    },
    {
      "cell_type": "code",
      "source": [
        "# Pre-Trained(SpeechToText) -> Hugging Face\n",
        "from transformers import Wav2Vec2ForCTC, Wav2Vec2Tokenizer"
      ],
      "metadata": {
        "id": "H1IPNWoCrDDe"
      },
      "execution_count": null,
      "outputs": []
    },
    {
      "cell_type": "code",
      "source": [
        "from google.colab import drive\n",
        "drive.mount('/content/drive')"
      ],
      "metadata": {
        "colab": {
          "base_uri": "https://localhost:8080/"
        },
        "id": "8jYYdelAwTiN",
        "outputId": "2323c958-61b3-4c4f-b325-d25f32f944a1"
      },
      "execution_count": null,
      "outputs": [
        {
          "output_type": "stream",
          "name": "stdout",
          "text": [
            "Drive already mounted at /content/drive; to attempt to forcibly remount, call drive.mount(\"/content/drive\", force_remount=True).\n"
          ]
        }
      ]
    },
    {
      "cell_type": "code",
      "source": [
        "# Preprocess the Audio with Librosa\n",
        "# sr -> 16000\n",
        "audio, rate = librosa.load('speech.mp3', sr=16000)"
      ],
      "metadata": {
        "id": "dZPawJlrsBdt"
      },
      "execution_count": null,
      "outputs": []
    },
    {
      "cell_type": "code",
      "source": [
        "# Tokeniza Audio File and Feed it to the Model\n",
        "tokenizer = Wav2Vec2Tokenizer.from_pretrained(\"facebook/Wav2Vec2-base-960h\")"
      ],
      "metadata": {
        "colab": {
          "base_uri": "https://localhost:8080/"
        },
        "id": "q52SsE7MsbLP",
        "outputId": "6b6fb41d-adde-4bae-e16b-0783472b950f"
      },
      "execution_count": null,
      "outputs": [
        {
          "output_type": "stream",
          "name": "stderr",
          "text": [
            "The tokenizer class you load from this checkpoint is not the same type as the class this function is called from. It may result in unexpected tokenization. \n",
            "The tokenizer class you load from this checkpoint is 'Wav2Vec2CTCTokenizer'. \n",
            "The class this function is called from is 'Wav2Vec2Tokenizer'.\n",
            "/usr/local/lib/python3.10/dist-packages/transformers/models/wav2vec2/tokenization_wav2vec2.py:733: FutureWarning: The class `Wav2Vec2Tokenizer` is deprecated and will be removed in version 5 of Transformers. Please use `Wav2Vec2Processor` or `Wav2Vec2CTCTokenizer` instead.\n",
            "  warnings.warn(\n"
          ]
        }
      ]
    },
    {
      "cell_type": "code",
      "source": [
        "model = Wav2Vec2ForCTC.from_pretrained(\"facebook/Wav2Vec2-base-960h\")"
      ],
      "metadata": {
        "colab": {
          "base_uri": "https://localhost:8080/"
        },
        "id": "axC-sG-htIW9",
        "outputId": "f7c96e0e-6066-4da9-f81d-070ff8ab8ce3"
      },
      "execution_count": null,
      "outputs": [
        {
          "output_type": "stream",
          "name": "stderr",
          "text": [
            "Some weights of the model checkpoint at facebook/Wav2Vec2-base-960h were not used when initializing Wav2Vec2ForCTC: ['wav2vec2.encoder.pos_conv_embed.conv.weight_v', 'wav2vec2.encoder.pos_conv_embed.conv.weight_g']\n",
            "- This IS expected if you are initializing Wav2Vec2ForCTC from the checkpoint of a model trained on another task or with another architecture (e.g. initializing a BertForSequenceClassification model from a BertForPreTraining model).\n",
            "- This IS NOT expected if you are initializing Wav2Vec2ForCTC from the checkpoint of a model that you expect to be exactly identical (initializing a BertForSequenceClassification model from a BertForSequenceClassification model).\n",
            "Some weights of Wav2Vec2ForCTC were not initialized from the model checkpoint at facebook/Wav2Vec2-base-960h and are newly initialized: ['wav2vec2.masked_spec_embed', 'wav2vec2.encoder.pos_conv_embed.conv.parametrizations.weight.original0', 'wav2vec2.encoder.pos_conv_embed.conv.parametrizations.weight.original1']\n",
            "You should probably TRAIN this model on a down-stream task to be able to use it for predictions and inference.\n"
          ]
        }
      ]
    },
    {
      "cell_type": "code",
      "source": [
        "input_values = tokenizer(audio, return_tensors=\"pt\").input_values\n",
        "# The Audio File Converted into list of tensor(array)"
      ],
      "metadata": {
        "id": "DRn0mpadtkvA"
      },
      "execution_count": null,
      "outputs": []
    },
    {
      "cell_type": "code",
      "source": [
        "logits = model(input_values).logits\n",
        "logits"
      ],
      "metadata": {
        "colab": {
          "base_uri": "https://localhost:8080/"
        },
        "id": "6cRQmh8xz3rp",
        "outputId": "24fb43d9-356b-42f6-d5a1-e668b67e9222"
      },
      "execution_count": null,
      "outputs": [
        {
          "output_type": "execute_result",
          "data": {
            "text/plain": [
              "tensor([[[ 13.6956, -26.1745, -25.8193,  ...,  -6.4375,  -7.2344,  -7.5246],\n",
              "         [ 13.3093, -25.9511, -25.5909,  ...,  -6.1443,  -6.8805,  -7.6598],\n",
              "         [ 12.7538, -26.3785, -26.0122,  ...,  -6.5236,  -7.1541,  -7.6826],\n",
              "         ...,\n",
              "         [ 13.2350, -25.8280, -25.4627,  ...,  -5.9530,  -7.1805,  -7.2292],\n",
              "         [ 13.2222, -25.7450, -25.3777,  ...,  -5.9009,  -7.2003,  -7.2907],\n",
              "         [ 13.3673, -25.8538, -25.4891,  ...,  -6.1377,  -7.2784,  -7.3340]]],\n",
              "       grad_fn=<ViewBackward0>)"
            ]
          },
          "metadata": {},
          "execution_count": 80
        }
      ]
    },
    {
      "cell_type": "code",
      "source": [
        "prediction = torch.argmax(logits, dim = -1)\n",
        "prediction"
      ],
      "metadata": {
        "colab": {
          "base_uri": "https://localhost:8080/"
        },
        "id": "uX_oswFW0G2V",
        "outputId": "ac9c5225-00f2-4bdf-b78d-256d4e46c303"
      },
      "execution_count": null,
      "outputs": [
        {
          "output_type": "execute_result",
          "data": {
            "text/plain": [
              "tensor([[ 0,  0,  0,  0,  0,  0,  9,  9,  0,  0,  0,  7,  0,  0,  0,  0,  0, 23,\n",
              "          0,  0,  0,  0,  5,  0,  9,  0,  0,  4, 14,  0,  0,  0,  0,  7,  0,  4,\n",
              "          0,  0, 26,  0,  0,  0,  0,  0,  5,  0,  0,  9,  9,  0,  0, 10,  0,  0,\n",
              "          0,  7,  0,  0,  4,  0,  0,  0,  0,  5,  0,  0,  9,  0,  0,  0,  4,  0,\n",
              "         12,  0, 11,  0,  0,  0,  5,  0,  0,  0,  4,  0, 22,  0,  0,  0,  0,  0,\n",
              "          5,  0,  9,  9,  0,  0, 21, 21,  0,  0,  0,  0,  0,  0,  0, 16,  0,  0,\n",
              "          4,  4,  4,  4,  0,  0,  0,  0,  0,  0,  0,  0,  0,  0]])"
            ]
          },
          "metadata": {},
          "execution_count": 81
        }
      ]
    },
    {
      "cell_type": "code",
      "source": [
        "text = tokenizer.batch_decode(prediction)\n",
        "text"
      ],
      "metadata": {
        "colab": {
          "base_uri": "https://localhost:8080/"
        },
        "id": "abAp9W5A0mAY",
        "outputId": "1b54c9f9-f0f8-45d9-9a77-56318ea1dcf5"
      },
      "execution_count": null,
      "outputs": [
        {
          "output_type": "execute_result",
          "data": {
            "text/plain": [
              "['NAPEN DA KENIA EN SHE YENGU']"
            ]
          },
          "metadata": {},
          "execution_count": 82
        }
      ]
    }
  ]
}